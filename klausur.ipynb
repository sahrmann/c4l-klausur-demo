{
 "cells": [
  {
   "cell_type": "markdown",
   "metadata": {},
   "source": [
    "# Einführung in die Programmierung - Abschlussklausur (Demo)\n",
    "\n",
    "### 26.02.2020\n",
    "\n",
    "\n",
    "Bearbeitungshinweise:\n",
    "\n",
    "- Sie können alle Aufgaben direkt in diesem Notebook in den dafür vorgesehenen Codezellen lösen.\n",
    "- Bitte stellen Sie sicher, dass der ihre Lösungen auch nach Neustart des Kernels funktionieren. Gehen Sie dazu vor Abgabe oben links auf `Kernel`, `Restart & Run All`, wiederholen Sie die erfolderlichen Eingaben und überprüfen Sie anschließend nochmals die Ausgaben.\n",
    "- Nach Ende der Bearbeitungszeit laden Sie das fertigt Notebook herunter, indem Sie oben links auf `File`, dann `Download as` und `Notebook (.ipynb)` klicken. Die Datei senden Sie bitte per E-Mail an programming@law-school.de und vergewissern sich vor verlassen des Raumes bei der Klausuraufsicht, dass die E-Mail eingetroffen ist. Für eine vorzeitige Abgabe wenden Sie sich an die Klausuraufsicht bevor Sie das E-Mail-Programm öffnen. In den letzten 15 Minuten der Bearbeitungszeit ist eine vorzeitige Abgabe nicht möglich.\n",
    "- Hilfsmittel:\n",
    "    - Sie können in der Klausur gedruckte Unterlagen mitbringen, auf Dateien auf ihrem Laptop zugreifen und das Internet nutzen. Insbesondere erlaubt und hilfreich ist das Nutzen von Suchmaschinen und Foren, das Durchsuchen und Lesen der Kursunterlagen inklusive dem Onlinekurs und der Python Dokumentation. \n",
    "    - Kommunikation ist während der Klausur nicht erlaubt, insbesondere Individualkommunikation (egal ob mit Teilnehmern oder nicht) und das Schreiben von Beiträgen, Kommentaren oder Antworten in Foren, Blogs, Wikis etc. Daher sind vor der Klausur Benachrichtigungen auf dem Laptop zu deaktivieren. Um Missverständnisse zu vermeiden, dürfen Programme und Webseiten zur Individualkommunikation (z.B. E-Mail-Programme, WhatsApp Web, Telegram, Facebook, etc.) nicht geöffnet werden. Möchten Sie beispielsweise eine E-Mail in der Klausur verfügbar haben, speicheren Sie die E-Mail vor Beginn der als PDF außerhalb des E-Mail-Programms. Es dürfen keine Dateien für andere freigegeben, an andere gesendet oder Empfangsmöglichkeiten bereitgehalten werden. Bluetooth und Ordnerfreigaben im Netzwerk (sofern vorhanden) sind daher zu deaktivieren.\n",
    "    - Neben einem Laptop dürfen keine Tablets, Smartphones, Smartwatches etc. verwendet werden.\n"
   ]
  },
  {
   "cell_type": "markdown",
   "metadata": {},
   "source": [
    "### Demoaufgabe 1\n",
    "\n",
    "Erstelle ein Programm, welches den Namen eines Anwalts erfragt (im Format `Vorname Nachname`, z.B. `Harvey Specter`) und den Namen anschließend im Format `Nachname, Vorname`, z.B. `Specter, Harvey` ausgibt."
   ]
  },
  {
   "cell_type": "code",
   "execution_count": null,
   "metadata": {},
   "outputs": [],
   "source": [
    "# Lösung zu Demoaufgabe 1\n"
   ]
  },
  {
   "cell_type": "markdown",
   "metadata": {},
   "source": [
    "### Demoaufgabe 2\n",
    "\n",
    "Erstelle ein Programm, welches die Datei `test.txt` ausliest und alle Zeilen mit vorangestelltem `-` ausgibt, also z.B.\n",
    "\n",
    "```\n",
    "- Inhalt von Zeile 1\n",
    "- Inhalt von Zeile 2\n",
    "```"
   ]
  },
  {
   "cell_type": "code",
   "execution_count": 1,
   "metadata": {},
   "outputs": [],
   "source": [
    "# Lösung zu Demoaufgabe 2\n"
   ]
  }
 ],
 "metadata": {
  "kernelspec": {
   "display_name": "Python 3",
   "language": "python",
   "name": "python3"
  },
  "language_info": {
   "codemirror_mode": {
    "name": "ipython",
    "version": 3
   },
   "file_extension": ".py",
   "mimetype": "text/x-python",
   "name": "python",
   "nbconvert_exporter": "python",
   "pygments_lexer": "ipython3",
   "version": "3.7.3"
  }
 },
 "nbformat": 4,
 "nbformat_minor": 2
}
